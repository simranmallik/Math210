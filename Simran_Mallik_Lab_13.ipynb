{
  "nbformat": 4,
  "nbformat_minor": 0,
  "metadata": {
    "colab": {
      "name": "Simran Mallik Lab 13.ipynb",
      "provenance": [],
      "collapsed_sections": [],
      "include_colab_link": true
    },
    "kernelspec": {
      "name": "python3",
      "display_name": "Python 3"
    }
  },
  "cells": [
    {
      "cell_type": "markdown",
      "metadata": {
        "id": "view-in-github",
        "colab_type": "text"
      },
      "source": [
        "<a href=\"https://colab.research.google.com/github/simranmallik/Math210/blob/main/Simran_Mallik_Lab_13.ipynb\" target=\"_parent\"><img src=\"https://colab.research.google.com/assets/colab-badge.svg\" alt=\"Open In Colab\"/></a>"
      ]
    },
    {
      "cell_type": "markdown",
      "metadata": {
        "id": "H9uexyJcv5Ym"
      },
      "source": [
        "# Lab 1.3\r\n",
        "\r\n",
        "Goals:\r\n",
        "* Compute arithmetic expressions.\r\n",
        "* Define and use functions.\r\n",
        "* Graph functions.\r\n",
        "* Implement Newton's method.\r\n",
        "* Determine which properties of a function affect the speed of Newton's method."
      ]
    },
    {
      "cell_type": "markdown",
      "metadata": {
        "id": "RUD-70U3GRpT"
      },
      "source": [
        "### Instructions\r\n",
        "* With your group, work through each of the questions below.  Most questions include some discussion and some bullet-pointed instructions.  Make sure you carry out the bullet-pointed instructions, because that it what is graded.  \r\n",
        "* You are expected to collaborate with your group.  You should arrive at the answers to these questions together.  However, your submitted answers should be expressed in your own words.\r\n",
        "* If you need to pause, you can save and come back to your work later.  \r\n",
        "* When you are done, select \"download .ipynb\" from the file menu.  Save the ipynb to your computer, then upload it to the Lab assignment in gradescope.\r\n"
      ]
    },
    {
      "cell_type": "markdown",
      "metadata": {
        "id": "9g3kL9HcwgDU"
      },
      "source": [
        "We will begin by importing the libraries we use for graphing."
      ]
    },
    {
      "cell_type": "code",
      "metadata": {
        "id": "F8wEIdO3wfws"
      },
      "source": [
        "import matplotlib.pyplot as plt\r\n",
        "import numpy as np"
      ],
      "execution_count": null,
      "outputs": []
    },
    {
      "cell_type": "markdown",
      "metadata": {
        "id": "qNOhsOpmxLyH"
      },
      "source": [
        "Define five algebraic functions by running this cell.  Each person in your group should pick a different one of these functions.  For the rest of the lab, \"your function\" refers to the function you picked. "
      ]
    },
    {
      "cell_type": "code",
      "metadata": {
        "id": "X1tu6QZFv2Hz"
      },
      "source": [
        "# Ryan\r\n",
        "def f1(x):\r\n",
        "  return x**3 - 4*x**2 + 6*x - 2.5\r\n",
        "# tries: 8, distance: .60\r\n",
        "\r\n",
        "# Afshin\r\n",
        "def f2(x):\r\n",
        "  return x**3 - 6*x**2 + 14*x - 10.5\r\n",
        "# tries: 5, distance: .12\r\n",
        "\r\n",
        "# Abbey\r\n",
        "def f3(x):\r\n",
        "  return x**3 - 10*x**2 + 30*x - 26.5\r\n",
        "# tries: 7, distance: .35\r\n",
        "\r\n",
        "def f4(x):\r\n",
        "  return x**3 - 5*x**2 + 10*x - 6.5\r\n",
        "\r\n",
        "# Simran\r\n",
        "def f5(x):\r\n",
        "  return x**3 - 8*x**2 + 22*x - 18.5\r\n",
        "# tries: 7, distance: .28"
      ],
      "execution_count": null,
      "outputs": []
    },
    {
      "cell_type": "markdown",
      "metadata": {
        "id": "Kr5nenYR0eJT"
      },
      "source": [
        "Your function has a root (x-intercept) near $x=2$, but it would be difficult to compute exactly.  Here's an idea.  We can make the linearization $L(x)$ of your function at $a=2$, and solve for the point where $L(x)=0$.  It won't be exactly the root of your function, but it should be a closer guess than $2$."
      ]
    },
    {
      "cell_type": "markdown",
      "metadata": {
        "id": "j-clb4YF0Z0S"
      },
      "source": [
        "### Q1\r\n",
        "\r\n",
        "* In a code cell below this, define a function `l(x)` which is the linearization of your function at $a=2$.  You can compute the derivative and value you need by hand, with a calculator, or in a code cell.\r\n",
        "* Create a graph using $x$ values near $2$ that contains your function and its linearization.  \r\n",
        "* Use algebra to solve for where $L(x)=0$ on your own paper. State your solution and check that it matches the intercept your graph shows you.\r\n",
        "\r\n",
        "You graph two functions on one graph by calling `plt.plot()` twice before you call `plt.show()`.  You can restrict the height of the graph so that you can see the details better by calling `plt.ylim((-5,5))` before you call `plt.show()`."
      ]
    },
    {
      "cell_type": "code",
      "metadata": {
        "colab": {
          "base_uri": "https://localhost:8080/",
          "height": 265
        },
        "id": "OhkNqLt_Uz78",
        "outputId": "0e01a10d-20e4-42b5-fa70-d9ecc951e167"
      },
      "source": [
        "import matplotlib.pyplot as plt \n",
        "import numpy as np\n",
        "\n",
        "a = np.arange(0,4,1)\n",
        "def l(a):\n",
        "  return 2*a - 2.5\n",
        "\n",
        "def o(a):\n",
        "  return a**3 - 8*(a**2) + 22*a - 18.5\n",
        "\n",
        "plt.plot(a, l(a))\n",
        "plt.plot(a, o(a))\n",
        "# plt.ylim((-5,5))\n",
        "plt.grid()\n",
        "plt.show()\n"
      ],
      "execution_count": null,
      "outputs": [
        {
          "output_type": "display_data",
          "data": {
            "image/png": "[encoded data removed]",
            "text/plain": [
              "<Figure size 432x288 with 1 Axes>"
            ]
          },
          "metadata": {
            "tags": [],
            "needs_background": "light"
          }
        }
      ]
    },
    {
      "cell_type": "markdown",
      "metadata": {
        "id": "y0Jr9_sx12rS"
      },
      "source": [
        "### Q2\r\n",
        "\r\n",
        "The first idea of Newton's method is that the $x$-intercept of the linearization at $a$ is usually a better approximation of the root than $a$ is.  \r\n",
        "* On paper, write the linearization of your function at a general point $a$ and solve $L(x)=0$ for $x$.  \r\n",
        "* In a cell below define a function `new(a)` which returns the value of `x` you solved above for an input `a`.\r\n",
        "* Test your definition by inputting `new(2)`.  This should give the answer you got from Q1."
      ]
    },
    {
      "cell_type": "code",
      "metadata": {
        "colab": {
          "base_uri": "https://localhost:8080/"
        },
        "id": "X7AJVIhyXFcL",
        "outputId": "15203d9d-5daa-4f52-931f-b909f1c08e94"
      },
      "source": [
        "# linearization = tangent line\n",
        "# x = (negative of original function / derivative of original function) + a\n",
        "def new(a):\n",
        "  x = (((-a)**3 + (8*(a**2)) - (22*a) + 18.5)/(3*(a**2) - (16*a) + 22)) + a\n",
        "  return x\n",
        "\n",
        "new(2)\n"
      ],
      "execution_count": 1,
      "outputs": [
        {
          "output_type": "execute_result",
          "data": {
            "text/plain": [
              "1.25"
            ]
          },
          "metadata": {
            "tags": []
          },
          "execution_count": 1
        }
      ]
    },
    {
      "cell_type": "markdown",
      "metadata": {
        "id": "_RNm8ojL2hdN"
      },
      "source": [
        "### Q3\r\n",
        "\r\n",
        "If we can use the linearization at `a` to produce a better approximation, then we can use the linearization at that point to produce an even better approximation.  Then we can use the linearization at that point to produce an even better approximation, and so on and so on.  This is the second idea of Newton's method.  \r\n",
        "* Add a line to your definition of `new(a)` that prints the value of `x` before it returns `x`.  \r\n",
        "* Apply your function 10 times to the intial guess $a=2$: `new(new(new(new(new(new(new(new(new(new(2))))))))))` \r\n",
        "\r\n",
        "You should notice that the last few approximations are remarkably close together.  That's because the approximations are so accurate that is they cannot be improved upon much."
      ]
    },
    {
      "cell_type": "code",
      "metadata": {
        "colab": {
          "base_uri": "https://localhost:8080/"
        },
        "id": "H_75T-SvgyFb",
        "outputId": "6cdf02cc-0d6d-4c53-fd85-e95d2f658e0b"
      },
      "source": [
        "def new(a):\n",
        "  x = (((-a)**3 + (8*(a**2)) - (22*a) + 18.5)/(3*(a**2) - (16*a) + 22)) + a\n",
        "  print(x)\n",
        "  return x\n",
        "\n",
        "new(new(new(new(new(new(new(new(new(new(2))))))))))"
      ],
      "execution_count": null,
      "outputs": [
        {
          "output_type": "stream",
          "text": [
            "1.25\n",
            "1.4813084112149533\n",
            "1.5253516863509085\n",
            "1.5268409691718012\n",
            "1.5268426322797213\n",
            "1.5268426322817934\n",
            "1.5268426322817925\n",
            "1.5268426322817925\n",
            "1.5268426322817925\n",
            "1.5268426322817925\n"
          ],
          "name": "stdout"
        },
        {
          "output_type": "execute_result",
          "data": {
            "text/plain": [
              "1.5268426322817925"
            ]
          },
          "metadata": {
            "tags": []
          },
          "execution_count": 19
        }
      ]
    },
    {
      "cell_type": "markdown",
      "metadata": {
        "id": "c9ytTejn32gC"
      },
      "source": [
        "###Q4\r\n",
        "\r\n",
        "We should assume that the final outcome of applying the `new` function 10 times is close enough to the actual root of your function.  Now the question is, how quickly did Newton's method get you close to that actual root?  To answer this you'll want to know the error in each approximation.\r\n",
        "\r\n",
        "* Assign the actual value of the root of your function near 2 to a variable\r\n",
        "* Modify your `new` function to instead print the difference between `x` and that actual value.\r\n",
        "* Apply the `new` function 10 times again to the intial guess $a=2$.  What do you notice?\r\n",
        "\r\n",
        "It may help you make sense of what you saw to know that python encodes small numbers in scientific notation.  Furthermore, numbers in python are by default only stored to 32 decimal places.\r\n"
      ]
    },
    {
      "cell_type": "code",
      "metadata": {
        "colab": {
          "base_uri": "https://localhost:8080/"
        },
        "id": "Iq9A865mhD3R",
        "outputId": "8a53104a-4edb-4b63-e7b8-e980709444d2"
      },
      "source": [
        "root = 1.5268426322817925\n",
        "\n",
        "def new(a):\n",
        "  x = (((-a)**3 + (8*(a**2)) - (22*a) + 18.5)/(3*(a**2) - (16*a) + 22)) + a\n",
        "  print(root - x)\n",
        "  return x\n",
        "\n",
        "new(new(new(new(new(new(new(new(new(new(2))))))))))\n",
        "\n",
        "# .27 away from actual root, ___ away from actual root .... "
      ],
      "execution_count": 2,
      "outputs": [
        {
          "output_type": "stream",
          "text": [
            "0.2768426322817925\n",
            "0.04553422106683924\n",
            "0.0014909459308840578\n",
            "1.6631099912789438e-06\n",
            "2.071232074740692e-12\n",
            "-8.881784197001252e-16\n",
            "0.0\n",
            "0.0\n",
            "0.0\n",
            "0.0\n"
          ],
          "name": "stdout"
        },
        {
          "output_type": "execute_result",
          "data": {
            "text/plain": [
              "1.5268426322817925"
            ]
          },
          "metadata": {
            "tags": []
          },
          "execution_count": 2
        }
      ]
    },
    {
      "cell_type": "markdown",
      "metadata": {
        "id": "JOSltMrY5qpF"
      },
      "source": [
        "###Q5\r\n",
        "\r\n",
        "This is our main question:  \r\n",
        "\r\n",
        "> What properties of a function make Newton's method more or less efficient at finding a root?\r\n",
        "\r\n",
        "The method worked for everyone's function eventually, but some coverged more quickly than others.  They got closer to the actual value in fewer steps.  The purpose of this question is to systematically generate and compare data and to try to draw conclusions from that data.  Confer with your group and agree on an apporach to the following questions.  Report your decisions and findings in a combination of text and code cells.\r\n",
        "\r\n",
        "* How are you going to measure how quickly the method is converging?\r\n",
        "* Is everyone's root the same distance from their starting guess?  In order to get comparable data how can you control for the discrepancies here?\r\n",
        "* Generate and share the data about your respective functions.  Explain how quickly each person's function converges according the the measure you chose.\r\n",
        "* Make a conjecture about what underlying property of the functions or their graphs caused some to converge faster than others.  \r\n",
        "* For full credit, propose a reasonable mathematical explanation for why this property would have that effect.\r\n",
        "\r\n"
      ]
    },
    {
      "cell_type": "code",
      "metadata": {
        "colab": {
          "base_uri": "https://localhost:8080/"
        },
        "id": "VpMHgZCtkCtk",
        "outputId": "97657e46-a92b-47f7-ad49-cdd198bb62a2"
      },
      "source": [
        "# 1. How are you going to measure how quickly the method is converging? \n",
        "  # For each person, we would measure the number of times it took before the method converged to 0, and compare the number of times. \n",
        "  # On the seventh time, the method converged to 0 for me, which was different from the number of times it took for my \n",
        "  # groupmates' methods to converge to 0. \n",
        "\n",
        "# 2. Is everyone's root the same distance from their starting guess? In order to get comparable data how can you control for the discrepancies here?\n",
        "  # Not everyone's root is the same distance from their starting guess. To get comparable data, you take the difference between\n",
        "  # the starting distance and root and compare those distances and also compare the number of times it took to get to that final distance. \n",
        "\n",
        "# 3. Generate and share the data about your respective functions. Explain how quickly each person's function converges according to the measure you chose.\n",
        "  # We could not find an exact trend in our data, however, the person with the equation that resulted in the most tries, 8 tries, to get to 0\n",
        "  # in our group also displayed the greatest distance between the initial guess and the root, which was .60. We believe that generally, the fewer the number of\n",
        "  # tries it took to get to 0, the smaller the distance between the initial guess and the root would be. For example, one person's equation\n",
        "  # resulted in 5 tries to get to 0 with a distance of 0.12. We think that it's possible that the smaller the distance is between the root and the starting guess, the faster the method gets to 0. \n",
        "  \n",
        "# 4. Make a conjecture about what underlying property of the functions or their graphs caused some to converge faster than others.\n",
        "  # The constant in each equation could be affecting the rate of convergence. For example, my equation had a constant of -18.5 with\n",
        "  # a distance of .28, and Abbbey's equation had a constant of - 26.5 with a distance of .35. These constants and distances are more \n",
        "  # similar than the constants and distances of the other equations in the group. This may indicate that there may be a \"sweet spot\" \n",
        "  # in terms of the constants helping to determine the rate of convergence. \n",
        "\n",
        "# 5. Based off of our research, we found that if r is a fixed point and g'(r) isn't equal to 0, then there will be linear convergence. \n",
        "  # If r is a fixed point and g'(r) = 0 and g''(r) ≠ 0, then there will be quadratic convergence. This difference in convergence \n",
        "  # types may affect how fast the method converges. It is possible that the constant may affect the rate of convergence. In our research, we \n",
        "  # identified a table that displayed the general trend that as the constant, becomes more negative, there may be more iterations required \n",
        "  # for the method to converge to the value of the true root. \n",
        "\n",
        "# SOURCES\n",
        "# Soram, R., Takhellambam, S., Yaikhom, S., Khomdram, M., Singh, S., &amp; Roy, S. (2013). On the Rate of Convergence of Newton-Raphson Method. Retrieved February 08, 2021, from http://theijes.com/papers/v2-i11/Part.1/B02110105012.pdf\n",
        "# Senning, J. (2007). Computing and Estimating the Rate of Convergence. Retrieved February 08, 2021, from http://www.math-cs.gordon.edu/courses/ma342/handouts/rate.pdf\n",
        "\n"
      ],
      "execution_count": null,
      "outputs": [
        {
          "output_type": "stream",
          "text": [
            "0.2768426322817925\n"
          ],
          "name": "stdout"
        }
      ]
    }
  ]
}