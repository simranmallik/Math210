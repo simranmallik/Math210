{
  "nbformat": 4,
  "nbformat_minor": 0,
  "metadata": {
    "colab": {
      "name": "Copy of Lab 56b.ipynb",
      "provenance": [],
      "collapsed_sections": [],
      "include_colab_link": true
    },
    "kernelspec": {
      "name": "python3",
      "display_name": "Python 3"
    }
  },
  "cells": [
    {
      "cell_type": "markdown",
      "metadata": {
        "id": "view-in-github",
        "colab_type": "text"
      },
      "source": [
        "<a href=\"https://colab.research.google.com/github/simranmallik/Math210/blob/Lab-56b/Simran_Mallik_Lab_56b.ipynb\" target=\"_parent\"><img src=\"https://colab.research.google.com/assets/colab-badge.svg\" alt=\"Open In Colab\"/></a>"
      ]
    },
    {
      "cell_type": "markdown",
      "metadata": {
        "id": "bHi2H286paFN"
      },
      "source": [
        "# Lab 5.6b\n",
        "\n",
        "Goals:\n",
        " \n",
        "* Use `if` statements to control the flow of a program\n",
        "* Import and manipulate data from a CSV file\n",
        "* Compute the squared error of a linear approximation\n",
        "* Use `sympy` to calculate the line of best fit\n",
        "\n"
      ]
    },
    {
      "cell_type": "markdown",
      "metadata": {
        "id": "WEEEmHOILj7_"
      },
      "source": [
        "Here are your libraries.\n"
      ]
    },
    {
      "cell_type": "code",
      "metadata": {
        "id": "mZZqUPjspZGa"
      },
      "source": [
        "import numpy as np\n",
        "import urllib.request as request\n",
        "import matplotlib.pyplot as plt\n",
        "import csv\n",
        "import codecs\n",
        "import sympy"
      ],
      "execution_count": 1,
      "outputs": []
    },
    {
      "cell_type": "markdown",
      "metadata": {
        "id": "iZ7nrjlaWsmh"
      },
      "source": [
        "Here is the world development indicators data from 2018, compiled by the world bank."
      ]
    },
    {
      "cell_type": "code",
      "metadata": {
        "id": "JIssaNqyWz_E"
      },
      "source": [
        "# get a file from a website\n",
        "wdi=request.urlopen('https://math.emory.edu/~mpcarr/math210/labs/data/wdi.csv')\n",
        "# read that file as a csv file\n",
        "csvfile = csv.reader(codecs.iterdecode(wdi, 'utf-8'))\n",
        "# save the data in the csv file as a python list\n",
        "csv=list(csvfile)"
      ],
      "execution_count": 2,
      "outputs": []
    },
    {
      "cell_type": "markdown",
      "metadata": {
        "id": "ySdqG_cOW1ck"
      },
      "source": [
        "Here is the test function `isNumeric()` that you used in the prelab."
      ]
    },
    {
      "cell_type": "code",
      "metadata": {
        "id": "kWrISSrNW1GM"
      },
      "source": [
        "def isNumeric(s):\n",
        "   try:\n",
        "      s = float(s)\n",
        "      return True\n",
        "   except:\n",
        "      return False"
      ],
      "execution_count": 3,
      "outputs": []
    },
    {
      "cell_type": "markdown",
      "metadata": {
        "id": "42PbwtsuZjPR"
      },
      "source": [
        "In the Prelab, we used only the first two columns of the WDI data.  There are more columns though, and we can read their headers from the first row."
      ]
    },
    {
      "cell_type": "code",
      "metadata": {
        "colab": {
          "base_uri": "https://localhost:8080/"
        },
        "id": "xiX2AAOZZimx",
        "outputId": "a2158096-a73d-49a6-fba5-7364cb4703fe"
      },
      "source": [
        "csv[0]"
      ],
      "execution_count": 4,
      "outputs": [
        {
          "output_type": "execute_result",
          "data": {
            "text/plain": [
              "['Country Name',\n",
              " 'Country Code',\n",
              " 'Adjusted net national income per capita (current US$) [NY.ADJ.NNTY.PC.CD]',\n",
              " 'Adolescent fertility rate (births per 1,000 women ages 15-19) [SP.ADO.TFRT]',\n",
              " 'Adolescents out of school (% of lower secondary school age) [SE.SEC.UNER.LO.ZS]',\n",
              " 'Birth rate, crude (per 1,000 people) [SP.DYN.CBRT.IN]',\n",
              " 'Children out of school, primary [SE.PRM.UNER]',\n",
              " 'Fertility rate, total (births per woman) [SP.DYN.TFRT.IN]',\n",
              " 'Income share held by highest 20% [SI.DST.05TH.20]',\n",
              " 'Labor force participation rate, female (% of female population ages 15+) (national estimate) [SL.TLF.CACT.FE.NE.ZS]',\n",
              " 'Labor force participation rate, total (% of total population ages 15+) (national estimate) [SL.TLF.CACT.NE.ZS]',\n",
              " 'Life expectancy at birth, total (years) [SP.DYN.LE00.IN]',\n",
              " 'Literacy rate, adult total (% of people ages 15 and above) [SE.ADT.LITR.ZS]',\n",
              " 'Mobile cellular subscriptions (per 100 people) [IT.CEL.SETS.P2]',\n",
              " 'Oil rents (% of GDP) [NY.GDP.PETR.RT.ZS]',\n",
              " 'Prevalence of undernourishment (% of population) [SN.ITK.DEFC.ZS]',\n",
              " 'Prevalence of severe food insecurity in the population (%) [SN.ITK.SVFI.ZS]',\n",
              " 'Rural population (% of total population) [SP.RUR.TOTL.ZS]']"
            ]
          },
          "metadata": {
            "tags": []
          },
          "execution_count": 4
        }
      ]
    },
    {
      "cell_type": "markdown",
      "metadata": {
        "id": "WVsGlmYkAfLR"
      },
      "source": [
        "# Questions\n",
        "Write answers to these questions using code and text blocks.  When you are satisfied, download and submit an .ipynb file to Gradescope."
      ]
    },
    {
      "cell_type": "markdown",
      "metadata": {
        "id": "OHo160_t0zfx"
      },
      "source": [
        "## Q1\n",
        "Pick two columns from the WDI data that sound interesting to you and that you would like to compare.  Pick a different pair than anyone else in your group.\n",
        "1. Create a pair of matching lists with the data from those columns.  Make sure\n",
        " * Your list contains numbers, not strings\n",
        " * Your list contains entries only for countries that had data for each column.\n",
        "2. Make a plot of your data.  Your plot should have a title and labelled axes (with units)."
      ]
    },
    {
      "cell_type": "code",
      "metadata": {
        "colab": {
          "base_uri": "https://localhost:8080/"
        },
        "id": "RREm84GkqAde",
        "outputId": "e5a9cd64-8612-4cf4-d708-12854a285ca0"
      },
      "source": [
        "undernourishment=[]\n",
        "ruralPopulation=[]\n",
        "for row in csv:\n",
        "  if isNumeric(row[15]) == True and isNumeric(row[17]) == True:\n",
        "    undernourishment.append(float(row[15]))\n",
        "    ruralPopulation.append(float(row[17]))\n",
        "print(undernourishment)\n",
        "print(ruralPopulation)"
      ],
      "execution_count": 13,
      "outputs": [
        {
          "output_type": "stream",
          "text": [
            "[29.9, 3.6, 2.8, 18.6, 3.8, 2.6, 2.5, 2.5, 2.5, 13.0, 4.3, 2.5, 2.5, 7.6, 7.4, 15.5, 2.5, 24.1, 2.5, 2.5, 3.0, 19.2, 18.5, 14.5, 6.3, 2.5, 39.6, 3.5, 2.5, 5.5, 28.0, 3.2, 19.9, 2.5, 2.5, 6.8, 2.5, 2.5, 5.8, 5.5, 8.8, 4.7, 8.9, 2.5, 16.9, 19.7, 3.9, 2.5, 2.5, 3.6, 16.6, 11.9, 8.2, 2.5, 6.5, 2.5, 16.1, 5.7, 48.2, 13.8, 2.5, 2.5, 2.5, 14.0, 9.0, 4.7, 23.7, 2.5, 2.5, 2.5, 8.7, 2.5, 8.5, 2.5, 23.0, 3.0, 47.6, 2.5, 2.5, 6.4, 2.5, 5.7, 32.6, 37.5, 2.5, 2.5, 8.5, 41.7, 18.8, 3.0, 5.1, 2.5, 11.9, 5.3, 7.1, 21.3, 2.5, 4.3, 32.6, 14.1, 14.7, 6.1, 2.5, 8.2, 2.5, 17.2, 12.6, 3.1, 2.5, 7.8, 12.3, 6.9, 8.8, 6.7, 14.5, 2.5, 2.5, 2.5, 2.5, 35.6, 2.5, 12.0, 4.8, 9.4, 4.6, 26.0, 6.1, 2.5, 13.2, 5.7, 2.5, 7.6, 5.7, 12.4, 8.1, 2.5, 2.5, 25.0, 9.3, 30.9, 20.7, 5.5, 2.5, 2.5, 4.0, 3.5, 3.1, 2.5, 2.5, 2.5, 2.6, 9.8, 31.4, 6.4]\n",
            "[74.505, 39.681, 27.371, 34.486, 8.13, 36.851, 13.988, 41.703, 44.32, 63.368, 68.853, 21.405, 1.999, 54.276, 52.688, 30.575, 51.755, 30.554, 13.431, 22.371, 24.992, 70.642, 34.268, 76.612, 43.626, 18.589, 76.941, 12.436, 40.848, 19.222, 33.084, 20.66, 49.221, 43.053, 22.963, 33.19, 26.208, 12.126, 29.517, 18.926, 36.179, 57.296, 27.977, 31.12, 76.201, 79.237, 43.752, 14.618, 19.556, 38.166, 10.63, 38.73, 41.368, 22.688, 43.94, 20.942, 48.946, 73.394, 44.722, 42.904, 0.0, 28.649, 6.187, 65.97, 44.675, 25.102, 29.527, 36.83, 7.58199999999999, 29.562, 44.326, 8.384, 9.021, 42.572, 72.97, 45.943, 38.101, 18.541, 0.0, 63.649, 31.858, 11.407, 71.847, 48.849, 32.321, 9.01900000000001, 0.0, 62.809, 83.063, 23.964, 57.644, 5.38800000000001, 46.328, 59.207, 19.844, 31.555, 33.187, 37.547, 64.012, 69.421, 49.968, 80.26, 8.51000000000001, 29.317, 13.462, 41.478, 49.656, 42.037, 17.752, 15.461, 63.334, 32.291, 38.415, 22.093, 53.093, 39.942, 34.789, 46.002, 25.567, 82.789, 81.757, 27.197, 16.156, 52.808, 43.908, 57.945, 46.274, 45.459, 76.251, 33.645, 19.679, 81.524, 47.802, 65.358, 33.94, 12.569, 26.203, 66.224, 50.051, 69.422, 58.298, 46.816, 31.055, 24.857, 48.407, 30.648, 13.478, 16.602, 17.744, 4.666, 49.522, 74.726, 11.792, 64.081]\n"
          ],
          "name": "stdout"
        }
      ]
    },
    {
      "cell_type": "code",
      "metadata": {
        "colab": {
          "base_uri": "https://localhost:8080/",
          "height": 312
        },
        "id": "syv3YrBfrmNA",
        "outputId": "d089ec41-2bd9-4ecd-cdb0-be72bcae7d22"
      },
      "source": [
        "import matplotlib.pyplot as plt\n",
        "\n",
        "ax=plt.axes()\n",
        "ax.set_title('Undernourishment vs Rural Population')\n",
        "ax.set_xlabel('Rural Population')\n",
        "ax.set_ylabel('Undernourishment')\n",
        "ax.plot(undernourishment,ruralPopulation, 'o')"
      ],
      "execution_count": 15,
      "outputs": [
        {
          "output_type": "execute_result",
          "data": {
            "text/plain": [
              "[<matplotlib.lines.Line2D at 0x7f3c1211fd90>]"
            ]
          },
          "metadata": {
            "tags": []
          },
          "execution_count": 15
        },
        {
          "output_type": "display_data",
          "data": {
            "image/png": "[encoded data removed]",
            "text/plain": [
              "<Figure size 432x288 with 1 Axes>"
            ]
          },
          "metadata": {
            "tags": [],
            "needs_background": "light"
          }
        }
      ]
    },
    {
      "cell_type": "markdown",
      "metadata": {
        "id": "6gvhAaIzbgjR"
      },
      "source": [
        "## Q2\n",
        "\n",
        "Write and run code blocks that\n",
        "1. Define symbolic variables `m` and `b`\n",
        "2. Copy your `sqerror()` function from the prelab.\n",
        "3. Run the `sqerror()` function with your data from Q1 with coefficients `m` and `b`.  Save the result to `err`.\n",
        "4. Compute `err_m` and `err_b` the partial derivatives of `err`.\n",
        "5. Use `sympy.solvers.linsolve()` to find the `m` and `b` of the line of best fit.\n",
        "6. Make a plot of your data again, but this time include the line of best fit.\n",
        "\n"
      ]
    },
    {
      "cell_type": "code",
      "metadata": {
        "colab": {
          "base_uri": "https://localhost:8080/",
          "height": 37
        },
        "id": "u6jag_hBr5Nv",
        "outputId": "c7f3aa2b-4063-4972-aa1f-0af59768c8eb"
      },
      "source": [
        "import sympy\n",
        "\n",
        "m = sympy.Symbol('m')\n",
        "b = sympy.Symbol('b')\n",
        "\n",
        "def sqerror(xvalues, yvalues, slope, intercept):\n",
        "  total = 0\n",
        "  for i in range(len(xvalues)):\n",
        "    x = float(xvalues[i])\n",
        "    y = float(yvalues[i])\n",
        "    error = y - (slope*x+intercept)\n",
        "    total = total + error**2\n",
        "  return total\n",
        "\n",
        "err = sqerror(undernourishment, ruralPopulation, m, b)\n",
        "err_m = sympy.diff(err, m)\n",
        "err_b = sympy.diff(err, b)\n",
        "\n",
        "sympy.solvers.linsolve([err_m,err_b],(m,b))"
      ],
      "execution_count": 18,
      "outputs": [
        {
          "output_type": "execute_result",
          "data": {
            "text/latex": "$\\displaystyle \\left\\{\\left( 0.959751950846443, \\  29.2620625887296\\right)\\right\\}$",
            "text/plain": [
              "FiniteSet((0.959751950846443, 29.2620625887296))"
            ]
          },
          "metadata": {
            "tags": []
          },
          "execution_count": 18
        }
      ]
    },
    {
      "cell_type": "code",
      "metadata": {
        "colab": {
          "base_uri": "https://localhost:8080/",
          "height": 312
        },
        "id": "tFkCcgTks_IU",
        "outputId": "3b0f5db9-6831-4c93-f36d-497a312a68cc"
      },
      "source": [
        "\n",
        "\n",
        "def line(x):\n",
        "  return 0.959751950846443 * x + 29.2620625887296\n",
        "\n",
        "x = np.arange(0,50,1)\n",
        "y = line(x)\n",
        "ax=plt.axes()\n",
        "ax.set_title('Undernourishment vs Rural Population')\n",
        "ax.set_xlabel('Rural Population')\n",
        "ax.set_ylabel('Undernourishment')\n",
        "ax.plot(x,y)\n",
        "ax.plot(undernourishment,ruralPopulation, 'o')"
      ],
      "execution_count": 31,
      "outputs": [
        {
          "output_type": "execute_result",
          "data": {
            "text/plain": [
              "[<matplotlib.lines.Line2D at 0x7f3c1073d090>]"
            ]
          },
          "metadata": {
            "tags": []
          },
          "execution_count": 31
        },
        {
          "output_type": "display_data",
          "data": {
            "image/png": "[encoded data removed]",
            "text/plain": [
              "<Figure size 432x288 with 1 Axes>"
            ]
          },
          "metadata": {
            "tags": [],
            "needs_background": "light"
          }
        }
      ]
    },
    {
      "cell_type": "markdown",
      "metadata": {
        "id": "LHm2FPpGcQ1N"
      },
      "source": [
        "## Q3\n",
        "Some data fits a linear model better than others. Since we already have an error function available, we can see how well the best line fits the data.\n",
        "\n",
        "1. Take the `m` and `b` values of best fit that you solved for in Q2.  Compute the `sqerror()` for those values.\n",
        "2. Compare to one or more of your groupmates.  Can you infer from your squared error whose data fits a line better?  What differences would you need to correct for in order to get a meaningful comparison?  Refer to specific differences between your datasets."
      ]
    },
    {
      "cell_type": "code",
      "metadata": {
        "colab": {
          "base_uri": "https://localhost:8080/"
        },
        "id": "pfzCFgt4wniI",
        "outputId": "0a1fbefd-8bb8-47d5-f15a-54c7b91f7975"
      },
      "source": [
        "#1. \n",
        "sqerror(undernourishment,ruralPopulation,0.959751950846443,29.2620625887296)"
      ],
      "execution_count": 33,
      "outputs": [
        {
          "output_type": "execute_result",
          "data": {
            "text/plain": [
              "55097.61194956159"
            ]
          },
          "metadata": {
            "tags": []
          },
          "execution_count": 33
        }
      ]
    },
    {
      "cell_type": "markdown",
      "metadata": {
        "id": "My_R9emcxdHk"
      },
      "source": [
        "2. \n",
        "When there's a smaller squared error, the line of best fit will match the data better. We would have to account for outliers since outliers could skew the line of best fit. \n",
        "My square error is about 3.6 times as big as Abbey's squared error. This could be that Abbey's x values were more predictive of her y values, whereas my x values may not have been as predictive of my y values. It could also be that the data from her dataset is better represented by a linear model, and my dataset may be better represented by some other model."
      ]
    },
    {
      "cell_type": "markdown",
      "metadata": {
        "id": "eWk3Ymf_sX7B"
      },
      "source": [
        "## Afterword:\n",
        "\n",
        "Of course, mathematicians figured out how to do this years ago. There are some slick algebra shortcuts that you'll learn in later statistics courses.  There are also pre-written algorithms for all of this.  Try this one, for instance. Check that it gives the same slope and intercept that you found.\n"
      ]
    },
    {
      "cell_type": "code",
      "metadata": {
        "id": "sLl4dx_PymqA",
        "colab": {
          "base_uri": "https://localhost:8080/"
        },
        "outputId": "64c55814-2036-478b-bc9f-acd1a688424f"
      },
      "source": [
        "from sklearn.linear_model import LinearRegression\n",
        "\n",
        "xvalues= undernourishment\n",
        "yvalues= ruralPopulation\n",
        "\n",
        "# refit the x data to be a column instead of a row\n",
        "x=np.array(xvalues).reshape((len(xvalues),1))\n",
        "y=np.array(yvalues)\n",
        "\n",
        "# create a linear regression object and fit it to x,y\n",
        "model=LinearRegression().fit(x,y)\n",
        "\n",
        "# print the coef and intercept methods from the object\n",
        "print(f'slope={model.coef_}')\n",
        "print(f'intercept={model.intercept_}')"
      ],
      "execution_count": 35,
      "outputs": [
        {
          "output_type": "stream",
          "text": [
            "slope=[0.95975195]\n",
            "intercept=29.262062588729567\n"
          ],
          "name": "stdout"
        }
      ]
    }
  ]
}