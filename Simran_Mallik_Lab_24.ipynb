{
  "nbformat": 4,
  "nbformat_minor": 0,
  "metadata": {
    "colab": {
      "name": "Simran Mallik Lab 24.ipynb",
      "provenance": [],
      "collapsed_sections": [],
      "include_colab_link": true
    },
    "kernelspec": {
      "name": "python3",
      "display_name": "Python 3"
    }
  },
  "cells": [
    {
      "cell_type": "markdown",
      "metadata": {
        "id": "view-in-github",
        "colab_type": "text"
      },
      "source": [
        "<a href=\"https://colab.research.google.com/github/simranmallik/Math210/blob/main/Simran_Mallik_Lab_24.ipynb\" target=\"_parent\"><img src=\"https://colab.research.google.com/assets/colab-badge.svg\" alt=\"Open In Colab\"/></a>"
      ]
    },
    {
      "cell_type": "markdown",
      "metadata": {
        "id": "H9uexyJcv5Ym"
      },
      "source": [
        "# Lab 2.4\r\n",
        "\r\n",
        "Goals:\r\n",
        "* Use arrays to compute approximations of integrals.\r\n",
        "* Use graphs and formulas to bound the error of these approximations.\r\n",
        "* Understand how the actual error is related to the error bound, and how the shape of the function affects that relationship.\r\n",
        "* Use flow-control and the rectangle method to visualize integral approximations."
      ]
    },
    {
      "cell_type": "markdown",
      "metadata": {
        "id": "RUD-70U3GRpT"
      },
      "source": [
        "### Instructions\r\n",
        "* With your group, work through each of the questions below.  Most questions include some discussion and some bullet-pointed instructions.  Make sure you carry out the bullet-pointed instructions, because that it what is graded.  \r\n",
        "* You are expected to collaborate with your group.  You should arrive at the answers to these questions together.  However, your submitted answers should be expressed in your own words.\r\n",
        "* If you need to pause, you can save and come back to your work later.  \r\n",
        "* When you are done, select \"download .ipynb\" from the file menu.  Save the ipynb to your computer, then upload it to the Lab assignment in gradescope.\r\n"
      ]
    },
    {
      "cell_type": "markdown",
      "metadata": {
        "id": "9g3kL9HcwgDU"
      },
      "source": [
        "We will begin by importing the libraries we use for graphing."
      ]
    },
    {
      "cell_type": "code",
      "metadata": {
        "id": "F8wEIdO3wfws"
      },
      "source": [
        "import matplotlib.pyplot as plt\r\n",
        "import matplotlib.patches as patches\r\n",
        "import numpy as np"
      ],
      "execution_count": 2,
      "outputs": []
    },
    {
      "cell_type": "markdown",
      "metadata": {
        "id": "qNOhsOpmxLyH"
      },
      "source": [
        "Define five algebraic functions by running this cell.  Each person in your group should pick a different one of these functions.  For the rest of the lab, $f(x)$ refers to the function you picked. "
      ]
    },
    {
      "cell_type": "code",
      "metadata": {
        "id": "X1tu6QZFv2Hz"
      },
      "source": [
        "# Simran \r\n",
        "def f1(x): \r\n",
        "  return x**3 - 6*x**2 + 14*x - 6 \r\n",
        "  # actual integral: 108.75\r\n",
        "\r\n",
        "# Ryan\r\n",
        "def f2(x):\r\n",
        "  return -x**3 + 6*x**2 - 4*x + 20  \r\n",
        "  # actual integral: 136.25\r\n",
        "\r\n",
        "# Abbey\r\n",
        "def f3(x):\r\n",
        "  return -2*x**3 + 24*x**2 - 80*x + 100 \r\n",
        "  # actual integral: 172.5\r\n",
        "\r\n",
        "# Afshin\r\n",
        "def f4(x):\r\n",
        "  return x**4 - 16*x**3 + 96*x**2 - 264*x +300\r\n",
        "  # actual integral: 135\r\n",
        "\r\n",
        "def f5(x):\r\n",
        "  return -x**3 + 12*x**2 - 57*x + 130\r\n",
        "  # actual integral: 188.75"
      ],
      "execution_count": 3,
      "outputs": []
    },
    {
      "cell_type": "markdown",
      "metadata": {
        "id": "Kr5nenYR0eJT"
      },
      "source": [
        "We'll be computing left-hand approximations of $\\int_1^6 f(x)~dx$ (where $f$ is your function)."
      ]
    },
    {
      "cell_type": "markdown",
      "metadata": {
        "id": "j-clb4YF0Z0S"
      },
      "source": [
        "### Q1\r\n",
        "\r\n",
        "* Write and run a code cell using array commands to compute the $L_{n}$ approximation of $\\int_1^6 f(x)~dx$.  \r\n",
        " * Assign  the value 10 to the variable `n`\r\n",
        " * Assign the appropriate expression to the variable `deltax`\r\n",
        " * Define an array `left` that contains the left endpoints of $n$ subintervals of $[1,6]$.\r\n",
        " * Use array commands on `left` to define an array `rects` that contains the areas of the $n$ rectangles of the $L_n$ approximation. Their heights are the values of $f(x)$ at the left endpoints.\r\n",
        " * Print the sum of the elements of `rects`.\r\n",
        "\r\n",
        "Try to use `n` instead of `10` as much as possible in this code, so it's easier to change `n` later.  If you're feeling ambitious, define these steps as a function that takes `n` as its argument and returns $L_n$.\r\n"
      ]
    },
    {
      "cell_type": "code",
      "metadata": {
        "colab": {
          "base_uri": "https://localhost:8080/"
        },
        "id": "EGehQwgpWzW7",
        "outputId": "c908e2b3-1bd7-4bf0-8d50-31a1e2c13101"
      },
      "source": [
        "n = 10\n",
        "deltax = 5/n\n",
        "left = np.arange(1,6,deltax)\n",
        " \n",
        "rects = deltax * f1(left)\n",
        "print(rects)\n",
        "print(np.sum(rects))"
      ],
      "execution_count": 4,
      "outputs": [
        {
          "output_type": "stream",
          "text": [
            "[ 1.5     2.4375  3.      3.5625  4.5     6.1875  9.     13.3125 19.5\n",
            " 27.9375]\n",
            "90.9375\n"
          ],
          "name": "stdout"
        }
      ]
    },
    {
      "cell_type": "markdown",
      "metadata": {
        "id": "y0Jr9_sx12rS"
      },
      "source": [
        "### Q2\r\n",
        "\r\n",
        "\r\n",
        "* Define a function `df(x)` which returns the derivative $f'(x)$ at `x`.\r\n",
        "* Graph $f(x)$ and $f'(x)$."
      ]
    },
    {
      "cell_type": "code",
      "metadata": {
        "colab": {
          "base_uri": "https://localhost:8080/",
          "height": 265
        },
        "id": "o6OI7mJsdw6J",
        "outputId": "d95041eb-463b-4915-eba6-61d21591075d"
      },
      "source": [
        "def df(x):\n",
        "  return 3*x**2 - 12*x + 14\n",
        "\n",
        "plt.plot(left, f1(left))\n",
        "plt.plot(left, df(left))\n",
        "plt.grid()\n",
        "plt.show()\n",
        "# blue line = f1(x)\n",
        "# orange line = f1'(x)\n"
      ],
      "execution_count": 6,
      "outputs": [
        {
          "output_type": "display_data",
          "data": {
            "image/png": "[encoded data removed]",
            "text/plain": [
              "<Figure size 432x288 with 1 Axes>"
            ]
          },
          "metadata": {
            "tags": [],
            "needs_background": "light"
          }
        }
      ]
    },
    {
      "cell_type": "markdown",
      "metadata": {
        "id": "_RNm8ojL2hdN"
      },
      "source": [
        "### Q3\r\n",
        "\r\n",
        "* Look at your graph in Q2.  What bound $S$ can you put on $|f'(x)|$ over the interval $[1,6]$.\r\n",
        "* Use $S$ to compute the theoretical error bound of the $L_{10}$ approximation. Look up the formula if you need it.  Since it's good practice, input the arithmetic for this formula into a code cell and compute it there."
      ]
    },
    {
      "cell_type": "code",
      "metadata": {
        "colab": {
          "base_uri": "https://localhost:8080/"
        },
        "id": "XbXsQ3QJh2hQ",
        "outputId": "1cde1c24-be8e-4b54-a372-1481a7c27a33"
      },
      "source": [
        "# What bound  𝑆  can you put on  |𝑓′(𝑥)|  over the interval  [1,6] .\n",
        "# S = slope \n",
        "\n",
        "# S (absolute value) = df(6) since that is where my derivative is biggest\n",
        "# S = df(6) = 50\n",
        "print(df(6))\n",
        "\n",
        "\n",
        "# Absolute theoretical error bound\n",
        "# |EL| <= S((b-a)^2/2n)\n",
        "# |EL| <= 50(25/20) = 62.5 \n",
        "EL_10 = 50 * (25/20)\n",
        "print(EL_10)"
      ],
      "execution_count": 6,
      "outputs": [
        {
          "output_type": "stream",
          "text": [
            "50\n",
            "62.5\n"
          ],
          "name": "stdout"
        }
      ]
    },
    {
      "cell_type": "markdown",
      "metadata": {
        "id": "bFJeLyQBv-Hd"
      },
      "source": [
        "S is 50. \n",
        "The theoretical error bound is 62.5."
      ]
    },
    {
      "cell_type": "markdown",
      "metadata": {
        "id": "c9ytTejn32gC"
      },
      "source": [
        "### Q4\r\n",
        "\r\n",
        "How does the error bound relate to the actual error?  \r\n",
        "* Compute $L_{100}$ and $L_{1000}$ approximations of $\\int_1^6 f(x)~dx$.  You can reuse your work from Q1.\r\n",
        "* The actual value of $\\int_1^6 f(x)~dx$ is in a comment in the code cell that defined the five functions.  Compute the actual error of your $L_{10}$, $L_{100}$ and $L_{1000}$ approximations.\r\n",
        "* Compute the theoretical error bound of each approximation. \r\n",
        "* What percentage of the theoretical error bound is each actual error?\r\n",
        "* How does the number of rectangles appear to affect the percentages you computed?  Compare your data to your group-mates and make a general observation, containing specific references to their data. \r\n"
      ]
    },
    {
      "cell_type": "code",
      "metadata": {
        "colab": {
          "base_uri": "https://localhost:8080/"
        },
        "id": "s-8J5x5Uc47g",
        "outputId": "4d96d3b5-593a-40b5-b440-96cfc0895b61"
      },
      "source": [
        "#1. \n",
        "# L100\n",
        "deltax100 = 5/100 \n",
        "left100 = np.arange(1,6,deltax100)\n",
        "rects100 = deltax100 * f1(left100)\n",
        "print(np.sum(rects100))\n",
        "\n",
        "# L1000\n",
        "deltax1000 = 5/1000 \n",
        "left1000 = np.arange(1,6,deltax1000)\n",
        "rects1000 = deltax1000 * f1(left1000)\n",
        "print(np.sum(rects1000))\n",
        "\n",
        "#2. \n",
        "# computed value - actual value\n",
        "\n",
        "# error of L10 = -17.8125\n",
        "error10 = 90.9375 - 108.75\n",
        "\n",
        "# error of L100 = -1.8656249999997527\n",
        "error100 = 106.88437500000025 - 108.75\n",
        "\n",
        "# error of L1000 = -0.18740625000597788\n",
        "error1000 = 108.56259374999402 - 108.75\n",
        "\n",
        "# 3. \n",
        "# compute the theoretical error bound of each approximation\n",
        "# Absolute theoretical error bound\n",
        "\n",
        "# EL for L10\n",
        "# EL <= 62.5\n",
        "EL_10 = 50 * (25/20)\n",
        "print(EL_10)\n",
        "\n",
        "# EL for L100 \n",
        "# EL <= 6.25\n",
        "EL_100 = 50 * (25/200)\n",
        "print(EL_100)\n",
        "\n",
        "# EL for L1000 \n",
        "# EL <= .625\n",
        "EL_1000 = 50 * (25/2000)\n",
        "print(EL_1000)\n",
        "\n",
        "\n",
        "# 4. What percentage of the theoretical error bound is EACH actual error?\n",
        "\n",
        "# for L10, the percentage is 28.84%\n",
        "(17.8125 / 62.5) * 100\n",
        "\n",
        "# for L100, the percentage is 29.85% :\n",
        "(1.8656249999997527 / 6.25) * 100\n",
        "\n",
        "# for L1000, the percentage is 29.98%:\n",
        "(0.18740625000597788 / .625) * 100\n"
      ],
      "execution_count": 18,
      "outputs": [
        {
          "output_type": "stream",
          "text": [
            "106.88437500000025\n",
            "108.56259374999402\n",
            "62.5\n",
            "6.25\n",
            "0.625\n",
            "here\n"
          ],
          "name": "stdout"
        },
        {
          "output_type": "execute_result",
          "data": {
            "text/plain": [
              "29.985000000956465"
            ]
          },
          "metadata": {
            "tags": []
          },
          "execution_count": 18
        }
      ]
    },
    {
      "cell_type": "markdown",
      "metadata": {
        "id": "JLevfgShwVmB"
      },
      "source": [
        "1. Compute  𝐿100  and  𝐿1000  approximations of  ∫61𝑓(𝑥) 𝑑𝑥 .\n",
        "**Answer:** L100 approximation is 106.88437500000025. L1000 approximation is 108.56259374999402.\n",
        "\n",
        "2. Compute the actual error of your  𝐿10 ,  𝐿100  and  𝐿1000  approximations.\n",
        "**Answer:** The actual error for L10 is -17.8125, for L100 is -1.8656249999997527, and for L1000 is -0.18740625000597788. \n",
        "\n",
        "3. Compute the theoretical error bound of each approximation.\n",
        "**Answer:** The theoretical error bound for L10 is 62.5, for L100 is 6.25, and for L1000 is .625. \n",
        "\n",
        "4. What percentage of the theoretical error bound is EACH actual error?\n",
        "**Answer:** The percentage for L10 is 28.84%, 29.85% for L100, and 29.98% for L1000.  \n",
        "\n",
        "5. How does the number of rectangles appear to affect the percentages you computed? Compare your data to your group-mates and make a general observation, containing specific references to their data.\n",
        "\n",
        "**Answer:** For graphs with an order of 3, we observed that the greater the number of rectangles, the greater the percentage of theoretical error bound. For example, the error for \n",
        "L10 is 28.84%, the error for L100 is 29.85%, and the error for L1000 is 29.98%. For Abbey who had f(3), the error for L10 is 1.3%, the error for L100 is 1.74%, and the error for L1000 is 1.78%. Ryan's function f2(x) was similar to Abbey's function.\n",
        "\n",
        "For the graph with the order of 4, we observed that the greater the number of rectangles, the smaller the percentage of theoretical error bound. For Afshin who had f4(x), the error for L10 is 20.11%, the error for L100 is 18.30, and the error for L1000 is 18.12%. \n",
        "\n"
      ]
    },
    {
      "cell_type": "markdown",
      "metadata": {
        "id": "JOSltMrY5qpF"
      },
      "source": [
        "### Q5\r\n",
        "\r\n",
        "Some functions have an actual error $E_L$ that is a relatively large percentage of the theoretical bound.  Others have $E_L$ that is much smaller than the theoretical bound.  This is our main question:  \r\n",
        "\r\n",
        "> What properties of a function make the actual error $E_L$ a larger or smaller percentage of the theoretical error bound?\r\n",
        "\r\n",
        "* In a text cell, compare your percentages to that of your groupmates, specifically referencing their data.  \r\n",
        "* Come up with a conjecture about what properties of your graphs cause the actual error to be a larger or smaller percentage of the theoretical error bound.  \r\n",
        "* For full credit, give a plausible mathematical reason why your conjecture might be true.\r\n",
        "\r\n",
        "\r\n",
        "\r\n",
        "\r\n"
      ]
    },
    {
      "cell_type": "markdown",
      "metadata": {
        "id": "bg-VXYQazXm9"
      },
      "source": [
        "If the first derivative graph seems to be continuously increasing, there will be a bigger underestimate with left hand approximation. However if the first dervivative graph is increasing in one part and decreasing in another part in an interval, it's more likely that the overestimates and underestimates of the left hand approximation will cancel each other out. \n",
        "Our data supports this since Afshin (with f4(x)) and I (with f1(x)) had a steadily increasing slope for f'(x) and we\n",
        "had a larger percentage of error. Afshin's percentage of error ranged from 18-20%, and mine ranged from 28%-29%. For Abbey (with f3(x)), her derivative graph was increasing and decreasing and she had a small percentage of error. Abbey's percentage of error ranged from 1.3%-1.8%. Abbey's graph was similar to Ryan's graph (with f2(x)). "
      ]
    },
    {
      "cell_type": "markdown",
      "metadata": {
        "id": "rOaW5mcMXLDN"
      },
      "source": [
        "### Q6\r\n",
        "\r\n",
        "* Use the `pacthes.rectangle()` method and a `for` loop to add each of the rectangles from the $L_{10}$ approximation to a graph of $y=f(x)$. You should be able to find the arguments you need for the method among the variables and arrays you've already defined."
      ]
    },
    {
      "cell_type": "code",
      "metadata": {
        "colab": {
          "base_uri": "https://localhost:8080/",
          "height": 319
        },
        "id": "0rMK-BeopUx1",
        "outputId": "05a513c5-43e7-4643-b9ef-7bf106290b6e"
      },
      "source": [
        "# L10\n",
        "\n",
        "\n",
        "plt.plot(left, f1(left))\n",
        "plt.plot(left, df(left))\n",
        "\n",
        "ax = plt.axes()\n",
        "\n",
        "for i in range(len(left)):\n",
        "  rect = patches.Rectangle((left[i],0), .5, f1(left[i]), fill = False) #starting point, width, height, \n",
        "  ax.add_patch(rect)\n",
        "\n",
        "plt.show()"
      ],
      "execution_count": 7,
      "outputs": [
        {
          "output_type": "stream",
          "text": [
            "/usr/local/lib/python3.6/dist-packages/ipykernel_launcher.py:7: MatplotlibDeprecationWarning: Adding an axes using the same arguments as a previous axes currently reuses the earlier instance.  In a future version, a new instance will always be created and returned.  Meanwhile, this warning can be suppressed, and the future behavior ensured, by passing a unique label to each axes instance.\n",
            "  import sys\n"
          ],
          "name": "stderr"
        },
        {
          "output_type": "display_data",
          "data": {
            "image/png": "[encoded data removed]",
            "text/plain": [
              "<Figure size 432x288 with 1 Axes>"
            ]
          },
          "metadata": {
            "tags": [],
            "needs_background": "light"
          }
        }
      ]
    }
  ]
}